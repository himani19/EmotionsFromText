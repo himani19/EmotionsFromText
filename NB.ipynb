{
 "cells": [
  {
   "cell_type": "code",
   "execution_count": 22,
   "metadata": {},
   "outputs": [
    {
     "name": "stderr",
     "output_type": "stream",
     "text": [
      "[nltk_data] Downloading package stopwords to /home/himani/nltk_data...\n",
      "[nltk_data]   Package stopwords is already up-to-date!\n"
     ]
    }
   ],
   "source": [
    "import numpy as np\n",
    "import pandas as pd\n",
    "import math\n",
    "import matplotlib.pyplot as plt\n",
    "import string\n",
    "import nltk\n",
    "nltk.download('stopwords')\n",
    "from nltk.stem import SnowballStemmer\n",
    "from nltk.corpus import stopwords\n",
    "from sklearn.feature_extraction.text import CountVectorizer\n",
    "from sklearn.feature_extraction.text import TfidfTransformer\n",
    "from sklearn import preprocessing\n",
    "from sklearn.naive_bayes import MultinomialNB"
   ]
  },
  {
   "cell_type": "code",
   "execution_count": 23,
   "metadata": {
    "scrolled": false
   },
   "outputs": [
    {
     "name": "stdout",
     "output_type": "stream",
     "text": [
      "['joy' 'fear' 'anger' 'sadness' 'disgust' 'shame' 'guilt']\n"
     ]
    }
   ],
   "source": [
    "#read the data set\n",
    "data = pd.read_csv(\"./Data/phrases.csv\")\n",
    "# data = pd.read_csv(\"./Data/phrases.csv\")\n",
    "# data=pd.DataFrame(data)\n",
    "# print type(data)\n",
    "# print data.shape\n",
    "data=data.dropna()\n",
    "print data['Emotion'].unique()\n",
    "# print data.shape"
   ]
  },
  {
   "cell_type": "markdown",
   "metadata": {},
   "source": [
    "## We are applying an LSTM based model for the emotion prediction. a special kind of RNN, capable of learning long-term dependencies."
   ]
  },
  {
   "cell_type": "markdown",
   "metadata": {},
   "source": [
    "## Preprocess the data set via cleaning, tokenisation and lemmatization"
   ]
  },
  {
   "cell_type": "code",
   "execution_count": 24,
   "metadata": {},
   "outputs": [
    {
     "name": "stdout",
     "output_type": "stream",
     "text": [
      "   Emotion                                             Phrase\n",
      "0      joy  on days when i feel closing to my partner and ...\n",
      "1     fear  every time i imagine that someone i love or i ...\n",
      "2    anger  when i had been obviously unjustly treated and...\n",
      "3  sadness  when i think about the short time that we live...\n",
      "4  disgust  at a gathering i found myself involuntarily si...\n"
     ]
    }
   ],
   "source": [
    "# print data\n",
    "import re\n",
    "\n",
    "def clean_dataset(data):\n",
    "    translator = string.maketrans('', '')\n",
    "    for index,row in data.iterrows():\n",
    "#         print index,row['Phrase']\n",
    "        row['Phrase'] = row['Phrase'].replace('[','')\n",
    "        row['Phrase'] = row['Phrase'].replace(']','')\n",
    "        row['Phrase'] = re.sub('((www\\.[^\\s]+)|(https?://[^\\s]+))','URL', row['Phrase'])\n",
    "        row['Phrase'] = re.sub('@[^\\s]+','USER', row['Phrase'])\n",
    "        row['Phrase'] = row['Phrase'].lower().replace(\"ё\", \"е\")\n",
    "        row['Phrase'] = re.sub('[^a-zA-Zа-яА-Я1-9]+', ' ', row['Phrase'])\n",
    "        row['Phrase'] = re.sub(' +',' ', row['Phrase'])\n",
    "        row['Phrase'] = row['Phrase'].strip()\n",
    "        row['Phrase'] = row['Phrase'].translate(translator,string.punctuation)\n",
    "#         print row['Phrase']\n",
    "    return data\n",
    "data = clean_dataset(data)\n",
    "print data.head()"
   ]
  },
  {
   "cell_type": "code",
   "execution_count": 25,
   "metadata": {},
   "outputs": [
    {
     "data": {
      "text/plain": [
       "(7652, 8930)"
      ]
     },
     "execution_count": 25,
     "metadata": {},
     "output_type": "execute_result"
    }
   ],
   "source": [
    "def bag_of_words(data):\n",
    "    count_vect=CountVectorizer()\n",
    "    count_vect.fit(data['Phrase']) #creates vocab of words\n",
    "#     print (count_vect.vocabulary_)\n",
    "    data_phrase=count_vect.transform(data['Phrase'])\n",
    "#     print(data_phrase.shape)\n",
    "#     print(type(data_phrase))\n",
    "#     print(data_phrase.toarray())\n",
    "    return data_phrase,count_vect\n",
    "data_phrase,count_vect=bag_of_words(data)\n",
    "data_phrase.shape\n"
   ]
  },
  {
   "cell_type": "code",
   "execution_count": 26,
   "metadata": {},
   "outputs": [
    {
     "data": {
      "text/plain": [
       "(7652, 8930)"
      ]
     },
     "execution_count": 26,
     "metadata": {},
     "output_type": "execute_result"
    }
   ],
   "source": [
    "def tf_idf(data_phrase):\n",
    "    tfidf_transformer = TfidfTransformer()\n",
    "    phrase_tfidf = tfidf_transformer.fit_transform(data_phrase)\n",
    "    return phrase_tfidf.toarray(),tfidf_transformer\n",
    "phrase_tfidf,tfidf_transformer=tf_idf(data_phrase)\n",
    "phrase_tfidf.shape"
   ]
  },
  {
   "cell_type": "code",
   "execution_count": 27,
   "metadata": {},
   "outputs": [
    {
     "name": "stdout",
     "output_type": "stream",
     "text": [
      "[4 2 0 ... 1 6 3]\n"
     ]
    }
   ],
   "source": [
    "# Import LabelEncoder\n",
    "#creating labelEncoder\n",
    "le = preprocessing.LabelEncoder()\n",
    "# Converting string labels into numbers.\n",
    "emotion_data=data['Emotion'].values\n",
    "emo_enc=le.fit_transform(emotion_data)\n",
    "print emo_enc\n",
    "\n"
   ]
  },
  {
   "cell_type": "code",
   "execution_count": 28,
   "metadata": {},
   "outputs": [
    {
     "name": "stdout",
     "output_type": "stream",
     "text": [
      "data (6121, 8930) (1531, 8930)\n",
      "label (6121,) (1531,)\n"
     ]
    }
   ],
   "source": [
    "train_phrase, validate_phrase = np.split(phrase_tfidf,[int(.8*len(phrase_tfidf))])\n",
    "# train_label,validate_label=np.split(emotion_data,[int(.8*len(emotion_data))])\n",
    "train_label,validate_label=np.split(emo_enc,[int(.8*len(emo_enc))])\n",
    "print \"data\",train_phrase.shape,validate_phrase.shape\n",
    "print \"label\",train_label.shape,validate_label.shape"
   ]
  },
  {
   "cell_type": "code",
   "execution_count": 39,
   "metadata": {},
   "outputs": [
    {
     "name": "stdout",
     "output_type": "stream",
     "text": [
      "(\"Sklearn's score on training data :\", 0.8033001143603986)\n",
      "(\"Sklearn's score on testing data :\", 0.5329849771391247)\n",
      "Classification report for testing data :-\n",
      "              precision    recall  f1-score   support\n",
      "\n",
      "           0       0.42      0.46      0.44       219\n",
      "           1       0.62      0.34      0.44       220\n",
      "           2       0.69      0.65      0.67       219\n",
      "           3       0.44      0.61      0.52       218\n",
      "           4       0.61      0.68      0.64       218\n",
      "           5       0.64      0.47      0.54       218\n",
      "           6       0.44      0.52      0.47       219\n",
      "\n",
      "   micro avg       0.53      0.53      0.53      1531\n",
      "   macro avg       0.55      0.53      0.53      1531\n",
      "weighted avg       0.55      0.53      0.53      1531\n",
      "\n"
     ]
    }
   ],
   "source": [
    "clf = MultinomialNB().fit(train_phrase, train_label)\n",
    "label_predicted = clf.predict(validate_phrase)\n",
    "\n",
    "from sklearn.naive_bayes import MultinomialNB\n",
    "from sklearn.metrics import classification_report\n",
    "from sklearn.metrics import roc_auc_score\n",
    "\n",
    "sklearn_score_train = clf.score(train_phrase,train_label)\n",
    "print(\"Sklearn's score on training data :\",sklearn_score_train)\n",
    "sklearn_score_test = clf.score(validate_phrase,validate_label)\n",
    "print(\"Sklearn's score on testing data :\",sklearn_score_test)\n",
    "print(\"Classification report for testing data :-\")\n",
    "print(classification_report(validate_label, label_predicted))"
   ]
  },
  {
   "cell_type": "code",
   "execution_count": 30,
   "metadata": {},
   "outputs": [],
   "source": [
    "from sklearn.pipeline import Pipeline\n",
    "from sklearn.naive_bayes import MultinomialNB\n",
    "from sklearn.feature_extraction.text import CountVectorizer, TfidfTransformer\n",
    "from sklearn.model_selection import train_test_split, GridSearchCV\n",
    "\n",
    "text_clf = Pipeline([('vect', CountVectorizer(stop_words=\"english\",encoding='latin-1')),\n",
    "                     ('tfidf', TfidfTransformer()),\n",
    "                     ('clf', MultinomialNB())])\n",
    "\n",
    "tuned_parameters = {\n",
    "    'vect__ngram_range': [(1, 1), (1, 2), (2, 2)],\n",
    "    'tfidf__use_idf': (True, False),\n",
    "    'tfidf__norm': ('l1', 'l2'),\n",
    "    'clf__alpha': [1, 1e-1, 1e-2]\n",
    "}\n"
   ]
  },
  {
   "cell_type": "code",
   "execution_count": 31,
   "metadata": {},
   "outputs": [],
   "source": [
    "x_train, x_test, y_train, y_test = train_test_split(data['Phrase'], emo_enc, test_size=0.20, random_state=42)"
   ]
  },
  {
   "cell_type": "code",
   "execution_count": 32,
   "metadata": {},
   "outputs": [
    {
     "name": "stdout",
     "output_type": "stream",
     "text": [
      "(6121,) (1531,) (6121,) (1531,)\n"
     ]
    }
   ],
   "source": [
    "print x_train.shape,x_test.shape,y_train.shape,y_test.shape"
   ]
  },
  {
   "cell_type": "code",
   "execution_count": 33,
   "metadata": {},
   "outputs": [
    {
     "name": "stdout",
     "output_type": "stream",
     "text": [
      "              precision    recall  f1-score   support\n",
      "\n",
      "           0     0.4267    0.4486    0.4374       214\n",
      "           1     0.6590    0.5455    0.5969       209\n",
      "           2     0.6300    0.6810    0.6545       210\n",
      "           3     0.5023    0.4672    0.4842       229\n",
      "           4     0.6211    0.7260    0.6695       219\n",
      "           5     0.6239    0.6104    0.6171       231\n",
      "           6     0.5261    0.5068    0.5163       219\n",
      "\n",
      "   micro avg     0.5689    0.5689    0.5689      1531\n",
      "   macro avg     0.5699    0.5694    0.5680      1531\n",
      "weighted avg     0.5694    0.5689    0.5675      1531\n",
      "\n"
     ]
    }
   ],
   "source": [
    "from sklearn.metrics import classification_report\n",
    "\n",
    "clf_tune = GridSearchCV(text_clf, tuned_parameters, cv=10, scoring=\"f1_weighted\")\n",
    "clf_tune.fit(x_train, y_train)\n",
    "\n",
    "print(classification_report(y_test, clf_tune.predict(x_test), digits=4))"
   ]
  },
  {
   "cell_type": "code",
   "execution_count": 34,
   "metadata": {},
   "outputs": [
    {
     "name": "stdout",
     "output_type": "stream",
     "text": [
      "{'vect__ngram_range': (1, 2), 'tfidf__use_idf': True, 'tfidf__norm': 'l2', 'clf__alpha': 1}\n",
      "0.5512129556996596\n"
     ]
    }
   ],
   "source": [
    "print(clf_tune.best_params_)\n",
    "print(clf_tune.best_score_)"
   ]
  },
  {
   "cell_type": "code",
   "execution_count": 52,
   "metadata": {},
   "outputs": [
    {
     "name": "stdout",
     "output_type": "stream",
     "text": [
      "Enter text:call me\n",
      "  (0, 4874)\t0.37377239775751403\n",
      "  (0, 1145)\t0.9275204551246289\n"
     ]
    },
    {
     "data": {
      "text/plain": [
       "array(['anger'], dtype=object)"
      ]
     },
     "execution_count": 52,
     "metadata": {},
     "output_type": "execute_result"
    }
   ],
   "source": [
    "test_sentence=raw_input(\"Enter text:\")\n",
    "test_sen=[]\n",
    "test_sen.append(test_sentence)\n",
    "bow=count_vect.transform(test_sen)\n",
    "tf_test=tfidf_transformer.transform(bow)\n",
    "print tf_test\n",
    "predicted_test= clf.predict(tf_test)\n",
    "le.inverse_transform(predicted_test)"
   ]
  },
  {
   "cell_type": "code",
   "execution_count": null,
   "metadata": {},
   "outputs": [],
   "source": []
  }
 ],
 "metadata": {
  "kernelspec": {
   "display_name": "Python 2",
   "language": "python",
   "name": "python2"
  },
  "language_info": {
   "codemirror_mode": {
    "name": "ipython",
    "version": 2
   },
   "file_extension": ".py",
   "mimetype": "text/x-python",
   "name": "python",
   "nbconvert_exporter": "python",
   "pygments_lexer": "ipython2",
   "version": "2.7.15rc1"
  }
 },
 "nbformat": 4,
 "nbformat_minor": 2
}
