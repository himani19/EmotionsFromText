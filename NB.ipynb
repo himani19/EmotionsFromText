{
 "cells": [
  {
   "cell_type": "markdown",
   "metadata": {},
   "source": [
    "# Naive Bayes"
   ]
  },
  {
   "cell_type": "code",
   "execution_count": 2,
   "metadata": {},
   "outputs": [
    {
     "name": "stderr",
     "output_type": "stream",
     "text": [
      "[nltk_data] Downloading package stopwords to /home/himani/nltk_data...\n",
      "[nltk_data]   Package stopwords is already up-to-date!\n"
     ]
    }
   ],
   "source": [
    "import numpy as np\n",
    "import pandas as pd\n",
    "import math\n",
    "import matplotlib.pyplot as plt\n",
    "import string\n",
    "import nltk\n",
    "nltk.download('stopwords')\n",
    "from nltk.stem import SnowballStemmer\n",
    "from nltk.corpus import stopwords\n",
    "from sklearn.feature_extraction.text import CountVectorizer\n",
    "from sklearn.feature_extraction.text import TfidfTransformer\n",
    "from sklearn import preprocessing\n",
    "from sklearn.naive_bayes import MultinomialNB"
   ]
  },
  {
   "cell_type": "code",
   "execution_count": 3,
   "metadata": {
    "scrolled": false
   },
   "outputs": [
    {
     "name": "stdout",
     "output_type": "stream",
     "text": [
      "['joy' 'fear' 'anger' 'sadness' 'disgust' 'shame' 'guilt']\n"
     ]
    }
   ],
   "source": [
    "#read the data set\n",
    "data = pd.read_csv(\"./Data/phrases.csv\")\n",
    "# data = pd.read_csv(\"./Data/phrases.csv\")\n",
    "# data=pd.DataFrame(data)\n",
    "# print type(data)\n",
    "# print data.shape\n",
    "data=data.dropna()\n",
    "print data['Emotion'].unique()\n",
    "# print data.shape"
   ]
  },
  {
   "cell_type": "markdown",
   "metadata": {},
   "source": [
    "## Preprocess the data set via cleaning, tokenisation and lemmatization"
   ]
  },
  {
   "cell_type": "code",
   "execution_count": 4,
   "metadata": {},
   "outputs": [
    {
     "name": "stdout",
     "output_type": "stream",
     "text": [
      "   Emotion                                             Phrase\n",
      "0      joy  on days when i feel closing to my partner and ...\n",
      "1     fear  every time i imagine that someone i love or i ...\n",
      "2    anger  when i had been obviously unjustly treated and...\n",
      "3  sadness  when i think about the short time that we live...\n",
      "4  disgust  at a gathering i found myself involuntarily si...\n"
     ]
    }
   ],
   "source": [
    "# print data\n",
    "import re\n",
    "\n",
    "def clean_dataset(data):\n",
    "    translator = string.maketrans('', '')\n",
    "    for index,row in data.iterrows():\n",
    "#         print index,row['Phrase']\n",
    "        row['Phrase'] = row['Phrase'].replace('[','')\n",
    "        row['Phrase'] = row['Phrase'].replace(']','')\n",
    "        row['Phrase'] = re.sub('((www\\.[^\\s]+)|(https?://[^\\s]+))','URL', row['Phrase'])\n",
    "        row['Phrase'] = re.sub('@[^\\s]+','USER', row['Phrase'])\n",
    "        row['Phrase'] = row['Phrase'].lower().replace(\"ё\", \"е\")\n",
    "        row['Phrase'] = re.sub('[^a-zA-Zа-яА-Я1-9]+', ' ', row['Phrase'])\n",
    "        row['Phrase'] = re.sub(' +',' ', row['Phrase'])\n",
    "        row['Phrase'] = row['Phrase'].strip()\n",
    "        row['Phrase'] = row['Phrase'].translate(translator,string.punctuation)\n",
    "#         print row['Phrase']\n",
    "    return data\n",
    "data = clean_dataset(data)\n",
    "print data.head()"
   ]
  },
  {
   "cell_type": "code",
   "execution_count": 5,
   "metadata": {},
   "outputs": [
    {
     "data": {
      "text/plain": [
       "(7652, 8930)"
      ]
     },
     "execution_count": 5,
     "metadata": {},
     "output_type": "execute_result"
    }
   ],
   "source": [
    "def bag_of_words(data):\n",
    "    count_vect=CountVectorizer()\n",
    "    count_vect.fit(data['Phrase']) #creates vocab of words\n",
    "#     print (count_vect.vocabulary_)\n",
    "    data_phrase=count_vect.transform(data['Phrase'])\n",
    "#     print(data_phrase.shape)\n",
    "#     print(type(data_phrase))\n",
    "#     print(data_phrase.toarray())\n",
    "    return data_phrase,count_vect\n",
    "data_phrase,count_vect=bag_of_words(data)\n",
    "data_phrase.shape\n"
   ]
  },
  {
   "cell_type": "code",
   "execution_count": 6,
   "metadata": {},
   "outputs": [
    {
     "data": {
      "text/plain": [
       "(7652, 8930)"
      ]
     },
     "execution_count": 6,
     "metadata": {},
     "output_type": "execute_result"
    }
   ],
   "source": [
    "def tf_idf(data_phrase):\n",
    "    tfidf_transformer = TfidfTransformer()\n",
    "    phrase_tfidf = tfidf_transformer.fit_transform(data_phrase)\n",
    "    return phrase_tfidf.toarray(),tfidf_transformer\n",
    "phrase_tfidf,tfidf_transformer=tf_idf(data_phrase)\n",
    "phrase_tfidf.shape"
   ]
  },
  {
   "cell_type": "code",
   "execution_count": 7,
   "metadata": {},
   "outputs": [
    {
     "name": "stdout",
     "output_type": "stream",
     "text": [
      "[4 2 0 ... 1 6 3]\n"
     ]
    }
   ],
   "source": [
    "# Import LabelEncoder\n",
    "#creating labelEncoder\n",
    "le = preprocessing.LabelEncoder()\n",
    "# Converting string labels into numbers.\n",
    "emotion_data=data['Emotion'].values\n",
    "emo_enc=le.fit_transform(emotion_data)\n",
    "print emo_enc\n",
    "\n"
   ]
  },
  {
   "cell_type": "code",
   "execution_count": 8,
   "metadata": {},
   "outputs": [
    {
     "name": "stdout",
     "output_type": "stream",
     "text": [
      "data (6121, 8930) (1531, 8930)\n",
      "label (6121,) (1531,)\n"
     ]
    }
   ],
   "source": [
    "train_phrase, validate_phrase = np.split(phrase_tfidf,[int(.8*len(phrase_tfidf))])\n",
    "# train_label,validate_label=np.split(emotion_data,[int(.8*len(emotion_data))])\n",
    "train_label,validate_label=np.split(emo_enc,[int(.8*len(emo_enc))])\n",
    "print \"data\",train_phrase.shape,validate_phrase.shape\n",
    "print \"label\",train_label.shape,validate_label.shape"
   ]
  },
  {
   "cell_type": "code",
   "execution_count": 9,
   "metadata": {},
   "outputs": [
    {
     "name": "stdout",
     "output_type": "stream",
     "text": [
      "(\"Sklearn's score on training data :\", 0.8033001143603986)\n",
      "(\"Sklearn's score on testing data :\", 0.5329849771391247)\n",
      "Classification report for testing data :-\n",
      "              precision    recall  f1-score   support\n",
      "\n",
      "           0       0.42      0.46      0.44       219\n",
      "           1       0.62      0.34      0.44       220\n",
      "           2       0.69      0.65      0.67       219\n",
      "           3       0.44      0.61      0.52       218\n",
      "           4       0.61      0.68      0.64       218\n",
      "           5       0.64      0.47      0.54       218\n",
      "           6       0.44      0.52      0.47       219\n",
      "\n",
      "   micro avg       0.53      0.53      0.53      1531\n",
      "   macro avg       0.55      0.53      0.53      1531\n",
      "weighted avg       0.55      0.53      0.53      1531\n",
      "\n"
     ]
    }
   ],
   "source": [
    "clf = MultinomialNB().fit(train_phrase, train_label)\n",
    "label_predicted = clf.predict(validate_phrase)\n",
    "\n",
    "from sklearn.naive_bayes import MultinomialNB\n",
    "from sklearn.metrics import classification_report\n",
    "from sklearn.metrics import roc_auc_score\n",
    "\n",
    "sklearn_score_train = clf.score(train_phrase,train_label)\n",
    "print(\"Sklearn's score on training data :\",sklearn_score_train)\n",
    "sklearn_score_test = clf.score(validate_phrase,validate_label)\n",
    "print(\"Sklearn's score on testing data :\",sklearn_score_test)\n",
    "print(\"Classification report for testing data :-\")\n",
    "print(classification_report(validate_label, label_predicted))"
   ]
  }
 ],
 "metadata": {
  "kernelspec": {
   "display_name": "Python 2",
   "language": "python",
   "name": "python2"
  },
  "language_info": {
   "codemirror_mode": {
    "name": "ipython",
    "version": 2
   },
   "file_extension": ".py",
   "mimetype": "text/x-python",
   "name": "python",
   "nbconvert_exporter": "python",
   "pygments_lexer": "ipython2",
   "version": "2.7.15rc1"
  }
 },
 "nbformat": 4,
 "nbformat_minor": 2
}
